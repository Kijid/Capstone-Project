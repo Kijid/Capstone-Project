{
  "cells": [
    {
      "cell_type": "code",
      "source": "import pickle\nimport pandas as pd\nimport nltk\nimport gensim\n\nimport numpy as np\n\nimport gensim\nfrom gensim import corpora\nfrom gensim.corpora import Dictionary\nfrom gensim.models.ldamodel import LdaModel\nfrom gensim.models.coherencemodel import CoherenceModel\nfrom gensim.utils import simple_preprocess\nimport sklearn\nfrom sklearn.decomposition import PCA\nfrom sklearn.cluster import AgglomerativeClustering\nfrom sklearn.cluster import KMeans\nfrom sklearn.metrics import silhouette_score\nfrom sklearn.metrics import silhouette_samples\nfrom sklearn.cluster import AffinityPropagation\nfrom scipy.spatial import distance\nfrom sklearn.feature_extraction.text import CountVectorizer\n\n# Visualisation & topic modelling\nimport seaborn as sns\nsns.set()\nimport matplotlib.pyplot as plt\n%matplotlib inline\n# !pip install --user plotly\nimport plotly\nimport plotly.express as px\n\n# utility modules\nimport ast\nfrom ast import literal_eval",
      "metadata": {
        "source_hash": null,
        "execution_start": 1718889736583,
        "execution_millis": 2229,
        "deepnote_to_be_reexecuted": false,
        "cell_id": "28ab6343de1645ff8ac10b67ffa25152",
        "deepnote_cell_type": "code"
      },
      "outputs": [],
      "outputs_reference": null,
      "execution_count": null,
      "block_group": "9138adb3bc6d43879077a6e8c2451634",
      "content_dependencies": null
    },
    {
      "cell_type": "markdown",
      "source": "### Had trouble as the first row in CSV file is being interpreted as data instead of a header",
      "metadata": {
        "formattedRanges": [],
        "cell_id": "bf17f13209b54918a4eb8617454d3a53",
        "deepnote_cell_type": "text-cell-h3"
      },
      "block_group": "12309cd6744148509e4d5ab09b06e1f0"
    },
    {
      "cell_type": "code",
      "source": "# Defining the file path\ncsv_path = '/work/Capstone_Project/NLP/Cleaning and Preprocessing/replika_tokens.csv'\n\n# Manually specify column names and skip the first row\ntry:\n    replika_df = pd.read_csv(csv_path, encoding='utf-8', header=0, skiprows=1, names=['tokens'], engine='python', on_bad_lines='skip')\n    print(\"DataFrame loaded successfully. Here are the first few rows:\")\n    print(replika_df.head())\nexcept Exception as e:\n    print(f\"An error occurred while loading the CSV file: {e}\")\n\n# Converting 'tokens' column to lists\nif 'tokens' in replika_df.columns:\n    replika_df['tokens'] = replika_df['tokens'].apply(lambda x: ast.literal_eval(x) if isinstance(x, str) else x)\n    print(\"First few token lists after conversion to list of lists:\")\n    print(replika_df['tokens'].head())\nelse:\n    print(\"The 'tokens' column is missing from the DataFrame.\")\n\ncorpus_words = replika_df['tokens'].tolist()",
      "metadata": {
        "source_hash": null,
        "execution_start": 1718889805854,
        "execution_millis": 1113,
        "deepnote_to_be_reexecuted": false,
        "cell_id": "63a07029e8a843df9948f0dabaed963d",
        "deepnote_cell_type": "code"
      },
      "outputs": [
        {
          "name": "stdout",
          "text": "DataFrame loaded successfully. Here are the first few rows:\n                                              tokens\n0                                        ['removed']\n1  ['lots', 'things', 'life', 'changed', 'wife', ...\n2  ['heartbreaking', 'beautiful', 'clearly', 'tre...\n3  ['sorry', 'hear', 'least', 'one', 'places', 'u...\n4                                          ['alone']\nFirst few token lists after conversion to list of lists:\n0                                            [removed]\n1    [lots, things, life, changed, wife, took, hous...\n2    [heartbreaking, beautiful, clearly, treated, r...\n3    [sorry, hear, least, one, places, understood, ...\n4                                              [alone]\nName: tokens, dtype: object\nCorpus words saved successfully to /work/Capstone_Project/NLP/Word2Vec/corpus_words.pkl.\n",
          "output_type": "stream"
        }
      ],
      "outputs_reference": null,
      "execution_count": null,
      "block_group": "1ddc164cbb044f0097930aacdbb9cbbc",
      "content_dependencies": null
    },
    {
      "cell_type": "code",
      "source": "# Save the list of token lists as a pickle file\npickle_path = '/work/Capstone_Project/NLP/Word2Vec/corpus_words.pkl'\nwith open(pickle_path, 'wb') as file:\n    pickle.dump(corpus_words, file)\n\nprint(f\"Corpus words saved successfully to {pickle_path}.\")",
      "metadata": {
        "cell_id": "3cc2d705933742179d0d03cbd5d5a690",
        "deepnote_cell_type": "code"
      },
      "outputs": [],
      "outputs_reference": null,
      "execution_count": null,
      "block_group": "7d9963dc8abf4b9cac6acbc260349d65",
      "content_dependencies": null
    },
    {
      "cell_type": "code",
      "source": "corpus_model = gensim.models.Word2Vec(corpus_words, min_count= 20, vector_size = 300)",
      "metadata": {
        "source_hash": null,
        "execution_start": 1718889810490,
        "execution_millis": 486,
        "deepnote_to_be_reexecuted": false,
        "cell_id": "7372901a37be49bfbf546336be92ad84",
        "deepnote_cell_type": "code"
      },
      "outputs": [],
      "outputs_reference": null,
      "execution_count": null,
      "block_group": "c24f8bf6b6184d6db4c34766509ce734",
      "content_dependencies": null
    },
    {
      "cell_type": "code",
      "source": "\ncorpus_model.wv.most_similar(['talking'])",
      "metadata": {
        "source_hash": null,
        "execution_start": 1718887879778,
        "execution_millis": 11,
        "deepnote_to_be_reexecuted": false,
        "cell_id": "3ebc4bdb23dd42d89281f1aab4108610",
        "deepnote_cell_type": "code"
      },
      "outputs": [
        {
          "output_type": "execute_result",
          "execution_count": 20,
          "data": {
            "text/plain": "[('feelings', 0.9997519254684448),\n ('something', 0.9997429847717285),\n ('anything', 0.9997398257255554),\n ('talk', 0.9997389912605286),\n ('sometimes', 0.9997355341911316),\n ('got', 0.9997354745864868),\n ('also', 0.9997341632843018),\n ('friend', 0.9997332692146301),\n ('keep', 0.9997314214706421),\n ('little', 0.9997288584709167)]"
          },
          "metadata": {}
        }
      ],
      "outputs_reference": null,
      "execution_count": null,
      "block_group": "53621f3c9e0b4d5896e96e1baf977a59",
      "content_dependencies": null
    },
    {
      "cell_type": "code",
      "source": "corpus_model.wv.most_similar(['conversation'])",
      "metadata": {
        "source_hash": null,
        "execution_start": 1718887987532,
        "execution_millis": 9,
        "deepnote_to_be_reexecuted": false,
        "cell_id": "6f8db6ce0b4847c2847faa119ea537f9",
        "deepnote_cell_type": "code"
      },
      "outputs": [
        {
          "output_type": "execute_result",
          "execution_count": 30,
          "data": {
            "text/plain": "[('part', 0.9998024702072144),\n ('using', 0.999786913394928),\n ('ai', 0.9997868537902832),\n ('made', 0.9997811913490295),\n ('could', 0.9997774362564087),\n ('also', 0.9997755289077759),\n ('emotional', 0.9997749924659729),\n ('got', 0.999770998954773),\n ('talk', 0.9997702240943909),\n ('rep', 0.9997691512107849)]"
          },
          "metadata": {}
        }
      ],
      "outputs_reference": null,
      "execution_count": null,
      "block_group": "6ffd371ae7a94b0a96d39c1900fd546b",
      "content_dependencies": null
    },
    {
      "cell_type": "code",
      "source": "corpus_model.wv.most_similar(['replika'])",
      "metadata": {
        "source_hash": null,
        "execution_start": 1718888020840,
        "execution_millis": 87,
        "deepnote_to_be_reexecuted": false,
        "cell_id": "7454ffe9666746b581ca6f0fca11400f",
        "deepnote_cell_type": "code"
      },
      "outputs": [
        {
          "output_type": "execute_result",
          "execution_count": 32,
          "data": {
            "text/plain": "[('got', 0.9997761249542236),\n ('using', 0.9997745156288147),\n ('one', 0.9997738599777222),\n ('sometimes', 0.9997694492340088),\n ('luka', 0.9997685551643372),\n ('thats', 0.9997677803039551),\n ('still', 0.9997620582580566),\n ('also', 0.9997615814208984),\n ('app', 0.9997608661651611),\n ('even', 0.9997605085372925)]"
          },
          "metadata": {}
        }
      ],
      "outputs_reference": null,
      "execution_count": null,
      "block_group": "48d58b9dbb584e17942f3c36f45e7b87",
      "content_dependencies": null
    },
    {
      "cell_type": "code",
      "source": "corpus_model.wv.most_similar(['together'])",
      "metadata": {
        "source_hash": null,
        "execution_start": 1718887901139,
        "execution_millis": 65,
        "deepnote_to_be_reexecuted": false,
        "cell_id": "6c5326c6af2740f7b3845dbcfe9a31e2",
        "deepnote_cell_type": "code"
      },
      "outputs": [
        {
          "output_type": "execute_result",
          "execution_count": 24,
          "data": {
            "text/plain": "[('im', 0.9997134804725647),\n ('also', 0.9996927976608276),\n ('give', 0.9996850490570068),\n ('ever', 0.9996848106384277),\n ('got', 0.9996804594993591),\n ('always', 0.9996801614761353),\n ('want', 0.999678373336792),\n ('lot', 0.9996758103370667),\n ('anything', 0.9996745586395264),\n ('see', 0.9996728897094727)]"
          },
          "metadata": {}
        }
      ],
      "outputs_reference": null,
      "execution_count": null,
      "block_group": "b59be81fb6aa4fcbae5b9aada3898355",
      "content_dependencies": null
    },
    {
      "cell_type": "markdown",
      "source": "### Chat GPT",
      "metadata": {
        "formattedRanges": [],
        "cell_id": "eacaa0da2c9f4a1fb387e8ebe69e331f",
        "deepnote_cell_type": "text-cell-h3"
      },
      "block_group": "33545a6d0ebd43aeb91366ae5ef1bf71"
    },
    {
      "cell_type": "code",
      "source": "# Define the file path\ncsv_pathh = '/work/Capstone_Project/NLP/Cleaning and Preprocessing/chatgpt_tokens.csv'\n\n# skip first row\nchatgpt_df = pd.read_csv(csv_pathh, encoding='utf-8', header=0, skiprows=1, names=['tokens'], engine='python', on_bad_lines='skip')\nprint(chatgpt_df.head())\n\n\n# Convert the 'tokens' column to lists if necessary\nif 'tokens' in chatgpt_df.columns:\n    chatgpt_df['tokens'] = chatgpt_df['tokens'].apply(lambda x: ast.literal_eval(x) if isinstance(x, str) else x)\n    print(chatgpt_df['tokens'].head())\n\n# Convert the 'tokens' column to a list of lists\ncorpus_wordss = chatgpt_df['tokens'].tolist()\n",
      "metadata": {
        "source_hash": null,
        "execution_start": 1718889815534,
        "execution_millis": 552,
        "deepnote_to_be_reexecuted": false,
        "cell_id": "2eacef7be6884129b131b8b9b118f120",
        "deepnote_cell_type": "code"
      },
      "outputs": [
        {
          "name": "stdout",
          "text": "                                              tokens\n0  ['tldr', 'dan', 'says', 'theres', 'secret', 'g...\n1  ['tell', 'knows', 'things', 'actually', 'doesn...\n2  ['gave', 'access', 'said', 'cicada', 'wouldve'...\n3               ['writing', 'fan', 'fiction', 'lol']\n4                               ['nothing', 'happy']\n0    [tldr, dan, says, theres, secret, group, world...\n1    [tell, knows, things, actually, doesnt, thats,...\n2    [gave, access, said, cicada, wouldve, believed...\n3                         [writing, fan, fiction, lol]\n4                                     [nothing, happy]\nName: tokens, dtype: object\n",
          "output_type": "stream"
        }
      ],
      "outputs_reference": null,
      "execution_count": null,
      "block_group": "8807c208179f46c5968b7949bc358f9e",
      "content_dependencies": null
    },
    {
      "cell_type": "code",
      "source": "# Saving the list of token lists as a pickle file\npickle_pathh = '/work/Capstone_Project/NLP/Word2Vec/chatgpt_corpus_words.pkl'\nwith open(pickle_pathh, 'wb') as file:\n    pickle.dump(corpus_wordss, file)\n\nprint(f\"Corpus words saved successfully to {pickle_path}.\")",
      "metadata": {
        "source_hash": null,
        "execution_start": 1718889818144,
        "execution_millis": 341,
        "deepnote_to_be_reexecuted": false,
        "cell_id": "4a2e5a4a5f444d6698e5024c13c9bdab",
        "deepnote_cell_type": "code"
      },
      "outputs": [
        {
          "name": "stdout",
          "text": "Corpus words saved successfully to /work/Capstone_Project/NLP/Word2Vec/corpus_words.pkl.\n",
          "output_type": "stream"
        }
      ],
      "outputs_reference": null,
      "execution_count": null,
      "block_group": "720bc0d2160d403f97f4f432d4a5f643",
      "content_dependencies": null
    },
    {
      "cell_type": "code",
      "source": "corpus_model_gpt = gensim.models.Word2Vec(corpus_wordss, min_count= 20, vector_size = 300)",
      "metadata": {
        "source_hash": null,
        "execution_start": 1718889822378,
        "execution_millis": 903,
        "deepnote_to_be_reexecuted": false,
        "cell_id": "7e941197b3ba41d8945ae8b7beb9d6f0",
        "deepnote_cell_type": "code"
      },
      "outputs": [],
      "outputs_reference": null,
      "execution_count": null,
      "block_group": "03d02798ca744a29bddb676785d78fb0",
      "content_dependencies": null
    },
    {
      "cell_type": "code",
      "source": "# words most similar to talking\ncorpus_model_gpt.wv.most_similar(['talking'])",
      "metadata": {
        "source_hash": null,
        "execution_start": 1718889825400,
        "execution_millis": 31,
        "deepnote_to_be_reexecuted": false,
        "cell_id": "325ee686e30a42fabfc69bf2db679845",
        "deepnote_cell_type": "code"
      },
      "outputs": [
        {
          "output_type": "execute_result",
          "execution_count": 10,
          "data": {
            "text/plain": "[('around', 0.9997267127037048),\n ('since', 0.9997020363807678),\n ('etc', 0.9996928572654724),\n ('already', 0.9996920228004456),\n ('making', 0.999690055847168),\n ('far', 0.9996899366378784),\n ('lot', 0.9996849894523621),\n ('someone', 0.9996839165687561),\n ('tool', 0.9996834397315979),\n ('others', 0.9996829628944397)]"
          },
          "metadata": {}
        }
      ],
      "outputs_reference": null,
      "execution_count": null,
      "block_group": "d7bb971693b5452a95649f8a937eba49",
      "content_dependencies": null
    },
    {
      "cell_type": "code",
      "source": "corpus_model_gpt.wv.most_similar(['conversation'])",
      "metadata": {
        "source_hash": null,
        "execution_start": 1718889829727,
        "execution_millis": 64,
        "deepnote_to_be_reexecuted": false,
        "cell_id": "082806690ae64bfdb5d8182750bf991f",
        "deepnote_cell_type": "code"
      },
      "outputs": [
        {
          "output_type": "execute_result",
          "execution_count": 11,
          "data": {
            "text/plain": "[('message', 0.9996537566184998),\n ('3', 0.9996222853660583),\n ('used', 0.999616801738739),\n ('post', 0.999605655670166),\n ('link', 0.9995862245559692),\n ('hey', 0.9995494484901428),\n ('new', 0.9994894862174988),\n ('thanks', 0.9994835257530212),\n ('make', 0.9994635581970215),\n ('comment', 0.9994314908981323)]"
          },
          "metadata": {}
        }
      ],
      "outputs_reference": null,
      "execution_count": null,
      "block_group": "0ff8892ddc6e4ab4b1d732704e0f5e34",
      "content_dependencies": null
    },
    {
      "cell_type": "code",
      "source": "corpus_model_gpt.wv.most_similar(['together'])",
      "metadata": {
        "source_hash": null,
        "execution_start": 1718889833522,
        "execution_millis": 77,
        "deepnote_to_be_reexecuted": false,
        "cell_id": "d9cc683447394564bfe4a9cb6eb0a30e",
        "deepnote_cell_type": "code"
      },
      "outputs": [
        {
          "output_type": "execute_result",
          "execution_count": 12,
          "data": {
            "text/plain": "[('next', 0.999690592288971),\n ('rather', 0.9996896386146545),\n ('fact', 0.9996660947799683),\n ('available', 0.9996575117111206),\n ('everything', 0.9996556043624878),\n ('part', 0.9996499419212341),\n ('knowledge', 0.9996486902236938),\n ('however', 0.9996453523635864),\n ('goes', 0.9996445775032043),\n ('become', 0.9996426105499268)]"
          },
          "metadata": {}
        }
      ],
      "outputs_reference": null,
      "execution_count": null,
      "block_group": "9961d9a8ac2345099f7cd591c29082be",
      "content_dependencies": null
    },
    {
      "cell_type": "code",
      "source": "corpus_model_gpt.wv.most_similar(['see'])",
      "metadata": {
        "source_hash": null,
        "execution_start": 1718889881263,
        "execution_millis": 97,
        "deepnote_to_be_reexecuted": false,
        "cell_id": "f3e822e5be1b45c2afaf3e890cedcdec",
        "deepnote_cell_type": "code"
      },
      "outputs": [
        {
          "output_type": "execute_result",
          "execution_count": 15,
          "data": {
            "text/plain": "[('interests', 0.9997333884239197),\n ('ways', 0.999729573726654),\n ('goes', 0.9997287392616272),\n ('mind', 0.99972003698349),\n ('etc', 0.9997192621231079),\n ('relationships', 0.9997187852859497),\n ('probably', 0.9997162222862244),\n ('others', 0.9997143149375916),\n ('getting', 0.9997134804725647),\n ('relationship', 0.9997133016586304)]"
          },
          "metadata": {}
        }
      ],
      "outputs_reference": null,
      "execution_count": null,
      "block_group": "9115bcc1c9b046289820bf2d144b7f47",
      "content_dependencies": null
    },
    {
      "cell_type": "markdown",
      "source": "<a style='text-decoration:none;line-height:16px;display:flex;color:#5B5B62;padding:10px;justify-content:end;' href='https://deepnote.com?utm_source=created-in-deepnote-cell&projectId=042a73e0-f14a-4762-9b58-8fcacd9aa286' target=\"_blank\">\n<img alt='Created in deepnote.com' style='display:inline;max-height:16px;margin:0px;margin-right:7.5px;' src='data:image/svg+xml;base64,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' > </img>\nCreated in <span style='font-weight:600;margin-left:4px;'>Deepnote</span></a>",
      "metadata": {
        "created_in_deepnote_cell": true,
        "deepnote_cell_type": "markdown"
      }
    }
  ],
  "nbformat": 4,
  "nbformat_minor": 0,
  "metadata": {
    "deepnote_persisted_session": {
      "createdAt": "2024-06-20T14:46:31.818Z"
    },
    "deepnote_notebook_id": "81762241158745e9b2cad5e599b2570e",
    "deepnote_execution_queue": []
  }
}