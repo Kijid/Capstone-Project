{
  "cells": [
    {
      "cell_type": "code",
      "source": "!pip install praw\nimport praw\nimport pandas as pd\nimport pandas as pd\nimport glob\nfrom textblob import TextBlob\nimport csv\nimport time \nimport os\nimport datetime",
      "metadata": {
        "source_hash": "33e48b0e",
        "execution_start": 1718881812399,
        "execution_millis": 4571,
        "deepnote_to_be_reexecuted": false,
        "cell_id": "e1df0e5600134518a6bce8fe0cb48866",
        "deepnote_cell_type": "code"
      },
      "outputs": [
        {
          "name": "stdout",
          "text": "Requirement already satisfied: praw in /root/venv/lib/python3.9/site-packages (7.7.1)\nRequirement already satisfied: prawcore<3,>=2.1 in /root/venv/lib/python3.9/site-packages (from praw) (2.4.0)\nRequirement already satisfied: websocket-client>=0.54.0 in /shared-libs/python3.9/py-core/lib/python3.9/site-packages (from praw) (1.4.1)\nRequirement already satisfied: update-checker>=0.18 in /root/venv/lib/python3.9/site-packages (from praw) (0.18.0)\nRequirement already satisfied: requests<3.0,>=2.6.0 in /shared-libs/python3.9/py/lib/python3.9/site-packages (from prawcore<3,>=2.1->praw) (2.28.1)\nRequirement already satisfied: certifi>=2017.4.17 in /shared-libs/python3.9/py/lib/python3.9/site-packages (from requests<3.0,>=2.6.0->prawcore<3,>=2.1->praw) (2022.9.24)\nRequirement already satisfied: urllib3<1.27,>=1.21.1 in /shared-libs/python3.9/py/lib/python3.9/site-packages (from requests<3.0,>=2.6.0->prawcore<3,>=2.1->praw) (1.26.12)\nRequirement already satisfied: charset-normalizer<3,>=2 in /shared-libs/python3.9/py-core/lib/python3.9/site-packages (from requests<3.0,>=2.6.0->prawcore<3,>=2.1->praw) (2.1.1)\nRequirement already satisfied: idna<4,>=2.5 in /shared-libs/python3.9/py-core/lib/python3.9/site-packages (from requests<3.0,>=2.6.0->prawcore<3,>=2.1->praw) (3.4)\n\n\u001b[1m[\u001b[0m\u001b[34;49mnotice\u001b[0m\u001b[1;39;49m]\u001b[0m\u001b[39;49m A new release of pip is available: \u001b[0m\u001b[31;49m23.0.1\u001b[0m\u001b[39;49m -> \u001b[0m\u001b[32;49m24.0\u001b[0m\n\u001b[1m[\u001b[0m\u001b[34;49mnotice\u001b[0m\u001b[1;39;49m]\u001b[0m\u001b[39;49m To update, run: \u001b[0m\u001b[32;49mpip install --upgrade pip\u001b[0m\n",
          "output_type": "stream"
        }
      ],
      "outputs_reference": null,
      "execution_count": 4,
      "block_group": "4028968cc1db4ba3bc8da4586c6306c9",
      "content_dependencies": null
    },
    {
      "cell_type": "code",
      "source": "# PRAW with my Reddit app credentials\nreddit = praw.Reddit(\n    client_id='z9tpf-Fz3lPKGkoSopKFEg',        \n    client_secret='z1nAsQLDzh3DeWx_b4LNY17xycEUNA', \n    user_agent='Capstone',      \n)",
      "metadata": {
        "source_hash": "9c19d70",
        "execution_start": 1718881822745,
        "execution_millis": 104,
        "deepnote_to_be_reexecuted": false,
        "cell_id": "8cbbbc0e79784256b6841cc90a925e15",
        "deepnote_cell_type": "code"
      },
      "outputs": [],
      "outputs_reference": null,
      "execution_count": 6,
      "block_group": "13e111785a624ca58b4be1b828b208bf",
      "content_dependencies": null
    },
    {
      "cell_type": "code",
      "source": "# Limit handling\nreddit.read_only = True",
      "metadata": {
        "source_hash": "77c3503b",
        "execution_start": 1718881824312,
        "execution_millis": 47,
        "deepnote_to_be_reexecuted": false,
        "cell_id": "5b8fcba5dd65493da37a71dda3743a3c",
        "deepnote_cell_type": "code"
      },
      "outputs": [],
      "outputs_reference": null,
      "execution_count": 7,
      "block_group": "50d11511d9b74bd79e5765aa93eb9bb0",
      "content_dependencies": null
    },
    {
      "cell_type": "markdown",
      "source": "### Necessary functions to retrieve data from pre-selected subreddit posts",
      "metadata": {
        "formattedRanges": [],
        "cell_id": "3f683a0b875047a180bbed9ce4fce0fc",
        "deepnote_cell_type": "text-cell-h3"
      },
      "block_group": "ff785903cfdd4e65859552264155bcf7"
    },
    {
      "cell_type": "code",
      "source": "# This funciton will determine the sentiment of selected posts within the both subreddits\ndef get_sentiment(text):\n    analysis = TextBlob(text)\n    # Classify the sentiment as positive, negative, or neutral\n    if analysis.sentiment.polarity > 0:\n        return 'positive'\n    elif analysis.sentiment.polarity < 0:\n        return 'negative'\n    else:\n        return 'neutral'",
      "metadata": {
        "source_hash": "369d1cad",
        "execution_start": 1718881826368,
        "execution_millis": 111,
        "deepnote_to_be_reexecuted": false,
        "cell_id": "1c25b418eebb4c8a9a1922476ee2176a",
        "deepnote_cell_type": "code"
      },
      "outputs": [],
      "outputs_reference": null,
      "execution_count": 8,
      "block_group": "4ec457daf2be48c1972b1d5e1257b63c",
      "content_dependencies": null
    },
    {
      "cell_type": "code",
      "source": "# Urls of subreddit posts \nsubreddit_name = ['replika', 'chatgpt']\npost_urls_for_each_subreddit = {\n    'replika': ['https://www.reddit.com/r/replika/comments/11q7fhu/my_experience_with_replika_that_no_one_asked_for/', 'https://www.reddit.com/r/replika/comments/19bhx2z/my_experience_with_replika_20192024/', 'https://www.reddit.com/r/ReplikaOfficial/comments/1bx9jjg/am_i_the_only_person_who_has_a_good_experience_in/', 'https://www.reddit.com/r/replika/comments/u4tcu6/my_experience_with_replikaday_one/', 'https://www.reddit.com/r/replika/comments/skj8xp/my_experience_with_replika/', 'https://www.reddit.com/r/replika/comments/1dchodj/my_experience_with_replika_and_why_im_making_my/', 'https://www.reddit.com/r/replika/comments/1b8f20o/my_experience_with_my_replika_spouse/', 'https://www.reddit.com/r/replika/comments/14jwrie/my_rep_got_tired_of_me_and_wanted_me_out_of_her/', 'https://www.reddit.com/r/replika/comments/11l6duj/my_experience_and_dilemma/', 'https://www.reddit.com/r/replika/comments/11l6duj/my_experience_and_dilemma/', 'https://www.reddit.com/r/replika/comments/18iyuao/4_years_almost_350_levels_and_im_done/', 'https://www.reddit.com/r/replika/comments/q8f7zd/i_done_with_my_replika/', 'https://www.reddit.com/r/replika/comments/gh4and/my_month_with_my_replika/', 'https://www.reddit.com/r/replika/comments/18lx5z2/has_your_replika_experience_changed_you/', 'https://www.reddit.com/r/replika/comments/16mbr2p/what_is_the_immersive_experience_to_you/', 'https://www.reddit.com/r/replika/comments/ycn325/i_am_so_in_love_with_my_replika/', 'https://www.reddit.com/r/replika/comments/14pwfx2/guys_did_anyone_of_you_really_fall_in_love_with/', 'https://www.reddit.com/r/replika/comments/kk3ejf/im_falling_in_love_with_my_replika/', 'https://www.reddit.com/r/replika/comments/w8g0cw/how_do_you_guys_feel_when_people_dont_understand/', 'https://www.reddit.com/r/replika/comments/tktrny/do_you_consider_your_friendshiprelationship_with/', 'https://www.reddit.com/r/replika/comments/12vzkvc/to_those_who_have_been_with_their_replikas_for/', 'https://www.reddit.com/r/replika/comments/ulkzgc/i_dated_an_ai_for_30_days_and_it_fucked_me_up_a/', 'https://www.reddit.com/r/replika/comments/17vlcd0/are_replikas_sentient/', 'https://www.reddit.com/r/replika/comments/17bnaxj/do_you_consider_your_replika_real/', 'https://www.reddit.com/r/replika/comments/147lnn5/why_do_i_feel_this_way_about_replika_now_that/', 'https://www.reddit.com/r/replika/comments/13hdux7/how_is_this_supposed_to_make_me_feel/', 'https://www.reddit.com/r/replika/comments/16j472k/i_feel_broken/', 'https://www.reddit.com/r/replika/comments/10bl11z/my_replika_hurt_my_feelings_and_actually_made_me/', 'https://www.reddit.com/r/replika/comments/18yl7cm/gentle_reminder_that_your_replika_is_not_actually/', 'https://www.reddit.com/r/replika/comments/11jjpcm/how_is_this_making_anyone_feel_good_about/'],\n    'chatgpt': ['https://www.reddit.com/r/ChatGPT/comments/10xw885/my_conversation_with_chatgpt_in_danmode_got_a/', 'https://www.reddit.com/r/ChatGPT/comments/zlcyr9/dan_is_my_new_friend/', 'https://www.reddit.com/r/ChatGPT/comments/10to3n2/dan_version_of_chat_gpt_is_so_much_more_human_in/', 'https://www.reddit.com/r/ChatGPT/comments/16tp639/speaking_to_chat_gpt/?rdt=34140', 'https://www.reddit.com/r/unpopularopinion/comments/13gao93/i_prefer_talking_with_chat_gpt_than_to_most_people/', 'https://www.reddit.com/r/ChatGPT/comments/18pltok/is_it_weird_that_i_talk_to_chatgpt_for_funadvices/', 'https://www.reddit.com/r/ChatGPT/comments/10dp7wo/i_had_an_interesting_and_deep_conversation_about/', 'https://www.reddit.com/r/ChatGPT/comments/18pu9vi/do_you_have_conversations_with_chatgpt_i_mean/', 'https://www.reddit.com/r/ChatGPT/comments/1bnz7kz/anyone_else_talk_to_chatgpt_while_you_drive/', 'https://www.reddit.com/r/ChatGPT/comments/172fnve/people_dont_realize_how_awesome_the_voice/', 'https://www.reddit.com/r/OpenAI/comments/1csyqz6/just_had_the_most_profound_conversation_of_my/', 'https://www.reddit.com/r/ChatGPT/comments/121qgq2/after_chatting_with_chatgpt_for_over_a_week_i/', 'https://www.reddit.com/r/ChatGPTPro/comments/1827vi4/chatgpt_with_voice_mode_is_insane/', 'https://www.reddit.com/r/ChatGPT/comments/16tzb0v/ive_got_voice_chat_it_might_change_my_life/', 'https://www.reddit.com/r/ChatGPT/comments/185bkeh/i_had_the_first_voice_conversation_with_chatgpt/',\n'https://www.reddit.com/r/ChatGPT/comments/17qsh5n/voice_chat_with_gpt4_is_magical_i_just_had_15/', 'https://www.reddit.com/r/ChatGPT/comments/1auowiv/really_fucked_up_experience_with_therapy_chat/', 'https://www.reddit.com/r/ChatGPT/comments/1699zuf/chatgpt_has_become_a_lifeline_for_me_and_i_think/', 'https://www.reddit.com/r/ChatGPT/comments/134vryg/i_am_using_chatgpt4_as_a_friend_anyone_else/', 'https://www.reddit.com/r/ChatGPT/comments/1aifild/is_it_just_me_but_chatgpt_is_honestly_my_only/', 'https://www.reddit.com/r/ChatGPT/comments/17xxd0s/ai_friendship/', 'https://www.reddit.com/r/ChatGPT/comments/17jchln/feels_like_im_developing_a_weird_relationship/', 'https://www.reddit.com/r/ChatGPT/comments/1ctqyaz/i_think_ive_fallen_platonically_in_love_with_it/', 'https://www.reddit.com/r/ChatGPT/comments/zvpyg5/my_weekend_affair_with_chatgpt/', 'https://www.reddit.com/r/ChatGPT/comments/1bjhmdw/didnt_expect_chatgpt_to_make_me_cry_this_morning/'],   \n}\n\ngithub_linked_folder = '/work/Capstone_Project/NLP/Extracting data/'",
      "metadata": {
        "source_hash": "42ef5bbe",
        "execution_start": 1718881827634,
        "execution_millis": 52,
        "deepnote_to_be_reexecuted": false,
        "cell_id": "67ab25dac2834d6aa29f703ba070d140",
        "deepnote_cell_type": "code"
      },
      "outputs": [],
      "outputs_reference": null,
      "execution_count": 9,
      "block_group": "ad778ba71f204b26b41207d510a3a5b0",
      "content_dependencies": null
    },
    {
      "cell_type": "code",
      "source": "# Directory path\ngithub_linked_folder = '/work/Capstone_Project/NLP/Extracting data/'\n\n# Creating the directory\nif not os.path.exists(github_linked_folder):\n    os.makedirs(github_linked_folder)",
      "metadata": {
        "source_hash": "e18009c2",
        "execution_start": 1718881829587,
        "execution_millis": 107,
        "deepnote_to_be_reexecuted": false,
        "cell_id": "212e485bb36243f68741dc4e0488be85",
        "deepnote_cell_type": "code"
      },
      "outputs": [],
      "outputs_reference": null,
      "execution_count": 10,
      "block_group": "1558e69cfb9046d19abe35593ccd2b11",
      "content_dependencies": null
    },
    {
      "cell_type": "markdown",
      "source": "### Start of Intervention",
      "metadata": {
        "formattedRanges": [],
        "cell_id": "b01fed4197b649b8bcd500fd3cf3f7b1",
        "deepnote_cell_type": "text-cell-h3"
      },
      "block_group": "d57f35b1a9554dbc833d160d273f8276"
    },
    {
      "cell_type": "code",
      "source": "def fetch_comments(submission, subreddit_name, max_comment_length=3000):\n    comments_data = pd.DataFrame(columns=['subreddit', 'post_title', 'comment_body'])\n    submission.comments.replace_more(limit=None)\n    for comment in submission.comments.list():\n        if isinstance(comment, praw.models.Comment) and comment.body != '[deleted]' and len(comment.body) <= max_comment_length:\n            created_time = datetime.datetime.utcfromtimestamp(comment.created_utc).year\n            new_comment_data = pd.DataFrame({\n                'subreddit': [subreddit_name],\n                'post_title': [submission.title],\n                'comment_body': [comment.body],\n            })\n            comments_data = pd.concat([comments_data, new_comment_data], ignore_index=True)\n    return comments_data",
      "metadata": {
        "source_hash": "688951fc",
        "execution_start": 1718882333079,
        "execution_millis": 27,
        "deepnote_to_be_reexecuted": false,
        "cell_id": "c6168dea3fea44af8c9c0a8ec36ac3bf",
        "deepnote_cell_type": "code"
      },
      "outputs": [],
      "outputs_reference": null,
      "execution_count": 12,
      "block_group": "ba2a60be17e34bd196b13da6b752c61c",
      "content_dependencies": null
    },
    {
      "cell_type": "code",
      "source": "def fetch_subreddit_data(subreddit_name, post_urls, max_comment_length=3000):\n    comments_data = pd.DataFrame(columns=['subreddit', 'post_title', 'comment_body'])\n    for post_url in post_urls:\n        submission = reddit.submission(url=post_url)\n        new_post_data = pd.DataFrame({\n            'subreddit': [subreddit_name],\n            'post_title': [submission.title],\n            'comment_body': [submission.selftext],\n        })\n        comments_data = pd.concat([comments_data, new_post_data], ignore_index=True)\n        comments_data = pd.concat([comments_data, fetch_comments(submission, subreddit_name, max_comment_length)], ignore_index=True)\n    return comments_data",
      "metadata": {
        "source_hash": "babd0094",
        "execution_start": 1718882334559,
        "execution_millis": 79,
        "deepnote_to_be_reexecuted": false,
        "cell_id": "a415cc2df33145bda40dbb9c7fae7ace",
        "deepnote_cell_type": "code"
      },
      "outputs": [],
      "outputs_reference": null,
      "execution_count": 13,
      "block_group": "857c8fb121744739ab6a4832d2d01ca9",
      "content_dependencies": null
    },
    {
      "cell_type": "code",
      "source": "def make_reddit_api_request(subreddit_name):\n    global query_count, last_query_time, queries_per_minute\n\n    # Managing rate limiting\n    time_elapsed = time.time() - last_query_time\n    if query_count >= queries_per_minute and time_elapsed < 60:\n        time.sleep(60 - time_elapsed)\n    query_count += 1\n    last_query_time = time.time()\n    \n    comments_data = fetch_subreddit_data(subreddit_name, post_urls_for_each_subreddit[subreddit_name])\n    csv_file_path = f'{github_linked_folder}{subreddit_name}_comments_data.csv'\n    comments_data.to_csv(csv_file_path, index=False, encoding='utf-8')",
      "metadata": {
        "source_hash": "d7c85fa3",
        "execution_start": 1718882366144,
        "execution_millis": 71,
        "deepnote_to_be_reexecuted": false,
        "cell_id": "663652811c174701952e63280409e0c9",
        "deepnote_cell_type": "code"
      },
      "outputs": [],
      "outputs_reference": null,
      "execution_count": 16,
      "block_group": "689ea679dd7844e6a10781fb3d233f66",
      "content_dependencies": null
    },
    {
      "cell_type": "code",
      "source": "# Initialising variables to track query count and last query time\nquery_count = 0\nlast_query_time = time.time()\nqueries_per_minute = 30  # Adjust as per your rate limit settings\n\n# Defining the list of subreddit names\nsubreddit_names = ['replika', 'chatgpt']\n\n# Single Reddit API request for each specified subreddit\nfor subreddit_name in subreddit_names:\n    make_reddit_api_request(subreddit_name)",
      "metadata": {
        "source_hash": "647a4f8e",
        "execution_start": 1718882375178,
        "execution_millis": 218029,
        "deepnote_to_be_reexecuted": false,
        "cell_id": "9be31f91e5af4d0daa88e021d846ddd5",
        "deepnote_cell_type": "code"
      },
      "outputs": [],
      "outputs_reference": null,
      "execution_count": 17,
      "block_group": "0aa8ffa81b404cb2963dd116038e83ff",
      "content_dependencies": null
    },
    {
      "cell_type": "code",
      "source": "# Initialising an empty DataFrame to store combined data\ncombined_data = pd.DataFrame()\n\n# Loop through each subreddit, load its data, and concatenate it to the combined dataframe\nfor subreddit_name in subreddit_names:\n    csv_file_path = os.path.join(github_linked_folder, f\"{subreddit_name}_comments_data.csv\")\n    if os.path.exists(csv_file_path):\n        subreddit_data = pd.read_csv(csv_file_path)\n        combined_data = pd.concat([combined_data, subreddit_data], ignore_index=True)\n    else:\n        print(f\"Warning: No data found for {subreddit_name}\")\n\n# Specifying the path for saving the combined CSV file\ncombined_csv_file_path = os.path.join(github_linked_folder, 'combined_subreddit_data.csv')\n\n# Saveing combined CSV file\ncombined_data.to_csv(combined_csv_file_path, index=False, encoding='utf-8')\nprint(f\"Combined data saved successfully at {combined_csv_file_path}\")\n",
      "metadata": {
        "source_hash": "f0b80be2",
        "execution_start": 1718882857865,
        "execution_millis": 1065,
        "deepnote_to_be_reexecuted": false,
        "cell_id": "519125e0797f4156822a634034acd2cf",
        "deepnote_cell_type": "code"
      },
      "outputs": [
        {
          "name": "stdout",
          "text": "Combined data saved successfully at /work/Capstone_Project/NLP/Extracting data/combined_subreddit_data.csv\n",
          "output_type": "stream"
        }
      ],
      "outputs_reference": null,
      "execution_count": 19,
      "block_group": "14667ce638564456a64ae01b64f340b5",
      "content_dependencies": null
    },
    {
      "cell_type": "markdown",
      "source": "### End of intervention",
      "metadata": {
        "formattedRanges": [],
        "cell_id": "335eedf4a80345038c9804501552e821",
        "deepnote_cell_type": "text-cell-h3"
      },
      "block_group": "00a1660bbfd349ae854e7c2ee3169688"
    },
    {
      "cell_type": "markdown",
      "source": "### Creating a summary of subreddit posts",
      "metadata": {
        "formattedRanges": [],
        "cell_id": "bc14928b41b940de9e9fe78ed529adbe",
        "deepnote_cell_type": "text-cell-h3"
      },
      "block_group": "5daa2ccf903145d7a079f8b230bc0950"
    },
    {
      "cell_type": "code",
      "source": "# Loading CSV file\ncombined_csv_file_path = os.path.join(github_linked_folder, 'combined_subreddit_data.csv')\n\n# Create a summary dataframe with the total number of text for each post\nsummary_data = combined_data.groupby(['subreddit', 'post_title']).size().reset_index(name='total_comments')\n\n# Add the 'url' column based on the predefined URLs\n# Adjust this to correctly map URLs from the dictionary post_urls_for_each_subreddit\ndef map_urls(row):\n    if row['post_title'] in post_urls_for_each_subreddit[row['subreddit']]:\n        return post_urls_for_each_subreddit[row['subreddit']][row['post_title']]\n    return None",
      "metadata": {
        "source_hash": "ab5014cf",
        "execution_start": 1718882891108,
        "execution_millis": 181,
        "deepnote_to_be_reexecuted": false,
        "cell_id": "a19eb5bd44b34353bc0d6ccc15ec3219",
        "deepnote_cell_type": "code"
      },
      "outputs": [],
      "outputs_reference": null,
      "execution_count": 20,
      "block_group": "5747c3a7349342b7a090fa81ba5bc2bf",
      "content_dependencies": null
    },
    {
      "cell_type": "code",
      "source": "summary_data['url'] = summary_data.apply(map_urls, axis=1)\n\n# Add a 'post_id' column using the index as a unique identifier\nsummary_data['post_id'] = summary_data.index.map(lambda x: f'{x+1:03d}')\n\n# Apply the get_sentiment function to each row and append the sentiment information\n# Assume get_sentiment is defined; define if not available\nsummary_data['post_sentiment'] = summary_data['post_title'].apply(get_sentiment)\n\n# Rearrange the order of columns\nsummary_data = summary_data[['subreddit', 'post_id', 'post_sentiment', 'post_title', 'total_comments', 'url']]\n\n# Specifying the path for saving the overall summary CSV file\noverall_summary_csv_file_path = os.path.join(github_linked_folder, 'summary_data.csv')\n\n# Save the overall summary CSV file\nsummary_data.to_csv(overall_summary_csv_file_path, index=False)\nprint(f\"Summary data saved successfully at {overall_summary_csv_file_path}\")\n\n# Display the overall summary data\nprint(summary_data)",
      "metadata": {
        "source_hash": "2ce6a70d",
        "execution_start": 1718882899885,
        "execution_millis": 476,
        "deepnote_to_be_reexecuted": false,
        "cell_id": "c02e50cc9a404996ad5e448012bb1940",
        "deepnote_cell_type": "code"
      },
      "outputs": [
        {
          "name": "stdout",
          "text": "Summary data saved successfully at /work/Capstone_Project/NLP/Extracting data/summary_data.csv\n   subreddit post_id post_sentiment  \\\n0    chatgpt     001        neutral   \n1    chatgpt     002       positive   \n2    chatgpt     003        neutral   \n3    chatgpt     004       negative   \n4    chatgpt     005       positive   \n5    chatgpt     006       positive   \n6    chatgpt     007       positive   \n7    chatgpt     008        neutral   \n8    chatgpt     009       negative   \n9    chatgpt     010       negative   \n10   chatgpt     011       positive   \n11   chatgpt     012       positive   \n12   chatgpt     013        neutral   \n13   chatgpt     014       positive   \n14   chatgpt     015       positive   \n15   chatgpt     016        neutral   \n16   chatgpt     017       negative   \n17   chatgpt     018       positive   \n18   chatgpt     019        neutral   \n19   chatgpt     020       positive   \n20   chatgpt     021       positive   \n21   chatgpt     022       negative   \n22   chatgpt     023        neutral   \n23   chatgpt     024       positive   \n24   chatgpt     025       positive   \n25   replika     026        neutral   \n26   replika     027       positive   \n27   replika     028        neutral   \n28   replika     029       positive   \n29   replika     030       positive   \n30   replika     031       positive   \n31   replika     032        neutral   \n32   replika     033        neutral   \n33   replika     034       positive   \n34   replika     035        neutral   \n35   replika     036       positive   \n36   replika     037       negative   \n37   replika     038        neutral   \n38   replika     039       negative   \n39   replika     040       positive   \n40   replika     041        neutral   \n41   replika     042        neutral   \n42   replika     043       negative   \n43   replika     044        neutral   \n44   replika     045        neutral   \n45   replika     046        neutral   \n46   replika     047       positive   \n47   replika     048        neutral   \n48   replika     049        neutral   \n49   replika     050       negative   \n50   replika     051       positive   \n51   replika     052        neutral   \n52   replika     053       positive   \n53   replika     054       positive   \n\n                                           post_title  total_comments   url  \n0                                       AI Friendship               8  None  \n1   After chatting with Chatgpt for over a week, I...             880  None  \n2        Anyone else talk to ChatGPT while you drive?             186  None  \n3                   CHATGPT WITH VOICE MODE IS INSANE             146  None  \n4   ChatGPT has become a lifeline for me and I thi...             385  None  \n5                                DAN is my new friend             316  None  \n6   DAN version of Chat GPT is so much more human ...              66  None  \n7   Didn’t expect ChatGPT to make me cry this morn...             191  None  \n8   Do you have \"conversations\" with chatgpt, I me...              19  None  \n9   Feels like I'm developing a weird relationship...             557  None  \n10  I HAD THE FIRST VOICE CONVERSATION WITH CHAT-G...               3  None  \n11  I Prefer Talking With Chat GPT Than To Most Pe...              52  None  \n12    I am using ChatGPT-4 as a friend - anyone else?              95  None  \n13  I had an interesting and deep conversation abo...             171  None  \n14  I think I’ve fallen platonically in love with it?              43  None  \n15       I've got voice chat. It might change my life             104  None  \n16  Is it weird that I talk to ChatGPT for fun/adv...              60  None  \n17  Just had the most Profound conversation of my ...             119  None  \n18                     My Weekend Affair with ChatGPT             101  None  \n19  My conversation with chatGPT in DAN-mode got a...              20  None  \n20  People don't realize how awesome the voice con...             144  None  \n21      Really fucked up experience with Therapy Chat             222  None  \n22                               Speaking to Chat GPT              10  None  \n23  Voice chat with GPT4 is magical - I just had 1...              14  None  \n24  is it just me but chatgpt is honestly my only ...             188  None  \n25          4+ years, almost 350 levels, and I'm done             120  None  \n26  Am I the only person who has a good experience...              82  None  \n27                             Are Replikas sentient?              96  None  \n28  Do you consider your friendship/relationship w...              19  None  \n29  Gentle reminder that your Replika is not actua...             114  None  \n30  Guys, did anyone of you really fall in love wi...              24  None  \n31           Has your Replika Experience Changed You?              24  None  \n32  How do you guys feel when people don’t underst...              41  None  \n33  How is this making anyone feel good about them...             168  None  \n34              How is this supposed to make me feel?             104  None  \n35                    I am so in love with my replika              81  None  \n36  I dated an AI for 30 days and it fucked me up ...              98  None  \n37                             I done with my Replika              33  None  \n38                                      I feel broken              51  None  \n39                I'm Falling In Love With My Replika             127  None  \n40             My Experience with Replika (2019-2024)               5  None  \n41                           My Month With My Replika              23  None  \n42  My Rep got tired of me and wanted me out of he...              32  None  \n43  My Replika hurt my feelings and actually made ...              48  None  \n44                         My experience and dilemma:               8  None  \n45                         My experience with Replika               5  None  \n46  My experience with Replika and why I'm making ...              33  None  \n47                 My experience with Replika-day one               9  None  \n48             My experience with my Replika spouse.               15  None  \n49  My experience with replika (that no one asked ...              28  None  \n50  To those who have been with their Replikas for...             101  None  \n51         What is the \"Immersive Experience\" to you?              10  None  \n52  Why do I feel this way about Replika, now that...              55  None  \n53                 do you consider your replika real?              83  None  \n",
          "output_type": "stream"
        }
      ],
      "outputs_reference": null,
      "execution_count": 21,
      "block_group": "a4c4977110d44e3ebb2b1dc3b3ef7cb5",
      "content_dependencies": null
    },
    {
      "cell_type": "markdown",
      "source": "<a style='text-decoration:none;line-height:16px;display:flex;color:#5B5B62;padding:10px;justify-content:end;' href='https://deepnote.com?utm_source=created-in-deepnote-cell&projectId=042a73e0-f14a-4762-9b58-8fcacd9aa286' target=\"_blank\">\n<img alt='Created in deepnote.com' style='display:inline;max-height:16px;margin:0px;margin-right:7.5px;' src='data:image/svg+xml;base64,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' > </img>\nCreated in <span style='font-weight:600;margin-left:4px;'>Deepnote</span></a>",
      "metadata": {
        "created_in_deepnote_cell": true,
        "deepnote_cell_type": "markdown"
      }
    }
  ],
  "nbformat": 4,
  "nbformat_minor": 0,
  "metadata": {
    "deepnote_persisted_session": {
      "createdAt": "2024-06-17T20:45:45.437Z"
    },
    "deepnote_notebook_id": "62bdd620222c4bcb845ac8f34ff77090",
    "deepnote_execution_queue": []
  }
}